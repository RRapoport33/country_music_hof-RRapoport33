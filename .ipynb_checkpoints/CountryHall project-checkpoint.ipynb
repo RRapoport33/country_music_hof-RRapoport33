{
 "cells": [
  {
   "cell_type": "markdown",
   "id": "5a0b9118",
   "metadata": {},
   "source": [
    "# 1. Start by using either the inspector or by viewing the page source. Can you identify a tag that might be helpful for finding the names of all inductees? Make use of this to create a list containing just the names of each inductee."
   ]
  },
  {
   "cell_type": "code",
   "execution_count": null,
   "id": "4f9932a4",
   "metadata": {},
   "outputs": [],
   "source": [
    "import requests"
   ]
  },
  {
   "cell_type": "code",
   "execution_count": null,
   "id": "d11dcca9",
   "metadata": {},
   "outputs": [],
   "source": [
    "URL = 'https://countrymusichalloffame.org/hall-of-fame/members/'\n",
    "\n",
    "response = requests.get(URL)"
   ]
  },
  {
   "cell_type": "code",
   "execution_count": null,
   "id": "c222b88a",
   "metadata": {},
   "outputs": [],
   "source": [
    "type(response)"
   ]
  },
  {
   "cell_type": "code",
   "execution_count": null,
   "id": "a3197983",
   "metadata": {},
   "outputs": [],
   "source": [
    "response.status_code"
   ]
  },
  {
   "cell_type": "code",
   "execution_count": null,
   "id": "52fdbfe3",
   "metadata": {},
   "outputs": [],
   "source": [
    "response.text"
   ]
  },
  {
   "cell_type": "code",
   "execution_count": null,
   "id": "5d9ba936",
   "metadata": {},
   "outputs": [],
   "source": [
    "from bs4 import BeautifulSoup as BS"
   ]
  },
  {
   "cell_type": "code",
   "execution_count": null,
   "id": "a389e6c6",
   "metadata": {},
   "outputs": [],
   "source": [
    "soup = BS(response.text)"
   ]
  },
  {
   "cell_type": "code",
   "execution_count": null,
   "id": "d4a8ac65",
   "metadata": {},
   "outputs": [],
   "source": [
    "soup"
   ]
  },
  {
   "cell_type": "code",
   "execution_count": null,
   "id": "402d208e",
   "metadata": {},
   "outputs": [],
   "source": [
    "print(soup.prettify())"
   ]
  },
  {
   "cell_type": "code",
   "execution_count": null,
   "id": "6947225c",
   "metadata": {},
   "outputs": [],
   "source": [
    "soup.find('h3')"
   ]
  },
  {
   "cell_type": "code",
   "execution_count": null,
   "id": "42fbfd4f",
   "metadata": {},
   "outputs": [],
   "source": [
    "names = soup.findAll('h3')\n",
    "print(type(names))\n",
    "names"
   ]
  },
  {
   "cell_type": "code",
   "execution_count": null,
   "id": "685fe791",
   "metadata": {},
   "outputs": [],
   "source": [
    "artists = []\n",
    "\n",
    "for name in names:\n",
    "    artists.append(name.text) #append to list\n",
    "    \n",
    "artists"
   ]
  },
  {
   "cell_type": "markdown",
   "id": "3c0f66b8",
   "metadata": {},
   "source": [
    "# For loop across all 16 pages"
   ]
  },
  {
   "cell_type": "code",
   "execution_count": null,
   "id": "9e49c4a7",
   "metadata": {},
   "outputs": [],
   "source": [
    "import requests\n",
    "from bs4 import BeautifulSoup as BS\n",
    "\n",
    "URL = 'https://countrymusichalloffame.org/hall-of-fame/members/'\n",
    "\n",
    "response = requests.get(URL)\n",
    "soup = BS(response.text)\n",
    "\n",
    "names = soup.findAll('h3')\n",
    "\n",
    "for name in names:\n",
    "    print(name.text)"
   ]
  },
  {
   "cell_type": "code",
   "execution_count": null,
   "id": "643177b6",
   "metadata": {},
   "outputs": [],
   "source": [
    "URL = 'https://countrymusichalloffame.org/hall-of-fame/members/page/'\n",
    "artists = []\n",
    "\n",
    "for page in range(1,17):\n",
    "    new_url = URL + str(page)\n",
    "    \n",
    "    response = requests.get(new_url)\n",
    "    soup = BS(response.text)\n",
    "\n",
    "    names = soup.findAll('h3')\n",
    "\n",
    "    for name in names:\n",
    "        artists.append(name.text)"
   ]
  },
  {
   "cell_type": "code",
   "execution_count": null,
   "id": "97bfe32a",
   "metadata": {},
   "outputs": [],
   "source": [
    "artists"
   ]
  },
  {
   "cell_type": "markdown",
   "id": "cfd171ea",
   "metadata": {},
   "source": [
    "# 2. Next, try and find a tag that could be used to find the year that each member was inducted. Extract these into a list. When you do this, be sure to only include the year and not the full text. For example, for Roy Acuff, the list entry should be \"1962\" and not \"Inducted 1962\". Double-check that the resulting list has the correct number of elements and is in the same order as your inductees list."
   ]
  },
  {
   "cell_type": "code",
   "execution_count": null,
   "id": "0df05f4c",
   "metadata": {},
   "outputs": [],
   "source": [
    "import requests\n",
    "from bs4 import BeautifulSoup as BS\n",
    "\n",
    "URL = 'https://countrymusichalloffame.org/hall-of-fame/members/page/'\n",
    "year_ind = []\n",
    "\n",
    "for page in range(1,17):\n",
    "    new_url = URL + str(page)\n",
    "    \n",
    "    response = requests.get(new_url)\n",
    "    soup = BS(response.text)\n",
    "\n",
    "    years = soup.findAll('p')[3:12]\n",
    "\n",
    "    for year in years:\n",
    "        year_ind.append(year.get_text(strip=True)[9:])"
   ]
  },
  {
   "cell_type": "code",
   "execution_count": null,
   "id": "1217bf7f",
   "metadata": {},
   "outputs": [],
   "source": [
    "year_ind"
   ]
  },
  {
   "cell_type": "code",
   "execution_count": null,
   "id": "a8eff251",
   "metadata": {},
   "outputs": [],
   "source": [
    "year_ind.pop()"
   ]
  },
  {
   "cell_type": "code",
   "execution_count": null,
   "id": "aae08d86",
   "metadata": {},
   "outputs": [],
   "source": [
    "year_ind"
   ]
  },
  {
   "cell_type": "markdown",
   "id": "939a446b",
   "metadata": {},
   "source": [
    "# Create Visual with Data"
   ]
  },
  {
   "cell_type": "code",
   "execution_count": null,
   "id": "b18a2ccc",
   "metadata": {},
   "outputs": [],
   "source": [
    "import pandas as pd\n",
    "import matplotlib.pyplot as plt"
   ]
  },
  {
   "cell_type": "code",
   "execution_count": null,
   "id": "b0cc7437",
   "metadata": {},
   "outputs": [],
   "source": [
    "HOF = pd.DataFrame(list(zip(year_ind, artists)), columns =['Year', 'Name'])\n",
    "print(HOF)"
   ]
  },
  {
   "cell_type": "code",
   "execution_count": null,
   "id": "eebc36ad",
   "metadata": {},
   "outputs": [],
   "source": [
    "HOF.info()"
   ]
  },
  {
   "cell_type": "code",
   "execution_count": null,
   "id": "c07f3066",
   "metadata": {},
   "outputs": [],
   "source": [
    "HOF.Year.value_counts().sort_index().plot(kind = 'bar', \n",
    "                                          figsize = (14, 10),\n",
    "                                          color = ['cornflowerblue', 'coral'])\n",
    "\n",
    "plt.title('Inductees per Year',\n",
    "           fontsize = 14,\n",
    "           fontweight = 'bold')"
   ]
  },
  {
   "cell_type": "code",
   "execution_count": null,
   "id": "451cdaa4",
   "metadata": {},
   "outputs": [],
   "source": []
  }
 ],
 "metadata": {
  "kernelspec": {
   "display_name": "Python 3 (ipykernel)",
   "language": "python",
   "name": "python3"
  },
  "language_info": {
   "codemirror_mode": {
    "name": "ipython",
    "version": 3
   },
   "file_extension": ".py",
   "mimetype": "text/x-python",
   "name": "python",
   "nbconvert_exporter": "python",
   "pygments_lexer": "ipython3",
   "version": "3.9.7"
  }
 },
 "nbformat": 4,
 "nbformat_minor": 5
}
